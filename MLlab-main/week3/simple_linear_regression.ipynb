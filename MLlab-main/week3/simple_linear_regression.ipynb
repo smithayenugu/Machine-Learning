{
 "cells": [
  {
   "cell_type": "code",
   "execution_count": 1,
   "metadata": {},
   "outputs": [
    {
     "name": "stdout",
     "output_type": "stream",
     "text": [
      "Hello world\n"
     ]
    }
   ],
   "source": [
    "print(\"Hello world\")"
   ]
  },
  {
   "cell_type": "markdown",
   "metadata": {},
   "source": [
    "Dataset - tvmarketing.csv\n",
    "Forecast Sales based on 'TV' marketing budget. You need to build a linear\n",
    "regression model to predict 'Sales' using 'TV' as the predictor variable."
   ]
  },
  {
   "cell_type": "markdown",
   "metadata": {},
   "source": []
  },
  {
   "cell_type": "code",
   "execution_count": 2,
   "metadata": {},
   "outputs": [
    {
     "name": "stdout",
     "output_type": "stream",
     "text": [
      "        TV  Sales\n",
      "0    230.1   22.1\n",
      "1     44.5   10.4\n",
      "2     17.2    9.3\n",
      "3    151.5   18.5\n",
      "4    180.8   12.9\n",
      "..     ...    ...\n",
      "195   38.2    7.6\n",
      "196   94.2    9.7\n",
      "197  177.0   12.8\n",
      "198  283.6   25.5\n",
      "199  232.1   13.4\n",
      "\n",
      "[200 rows x 2 columns]\n"
     ]
    }
   ],
   "source": [
    "import pandas as pd\n",
    "df=pd.read_csv('tvmarketing.csv')\n",
    "print(df)"
   ]
  },
  {
   "cell_type": "markdown",
   "metadata": {},
   "source": []
  },
  {
   "cell_type": "code",
   "execution_count": 3,
   "metadata": {},
   "outputs": [
    {
     "name": "stdout",
     "output_type": "stream",
     "text": [
      "      TV  Sales\n",
      "0  230.1   22.1\n",
      "1   44.5   10.4\n",
      "2   17.2    9.3\n",
      "3  151.5   18.5\n",
      "4  180.8   12.9\n"
     ]
    }
   ],
   "source": [
    "print(df.head(5))"
   ]
  },
  {
   "cell_type": "code",
   "execution_count": null,
   "metadata": {},
   "outputs": [
    {
     "name": "stdout",
     "output_type": "stream",
     "text": [
      "TV       float64\n",
      "Sales    float64\n",
      "dtype: object\n"
     ]
    }
   ],
   "source": [
    "print(df.dtypes)"
   ]
  },
  {
   "cell_type": "code",
   "execution_count": 5,
   "metadata": {},
   "outputs": [
    {
     "name": "stdout",
     "output_type": "stream",
     "text": [
      "(200, 2)\n"
     ]
    }
   ],
   "source": [
    "print(df.shape)"
   ]
  },
  {
   "cell_type": "code",
   "execution_count": 6,
   "metadata": {},
   "outputs": [
    {
     "name": "stdout",
     "output_type": "stream",
     "text": [
      "               TV       Sales\n",
      "count  200.000000  200.000000\n",
      "mean   147.042500   14.022500\n",
      "std     85.854236    5.217457\n",
      "min      0.700000    1.600000\n",
      "25%     74.375000   10.375000\n",
      "50%    149.750000   12.900000\n",
      "75%    218.825000   17.400000\n",
      "max    296.400000   27.000000\n"
     ]
    }
   ],
   "source": [
    "print(df.describe())"
   ]
  },
  {
   "cell_type": "code",
   "execution_count": 7,
   "metadata": {},
   "outputs": [
    {
     "data": {
      "image/png": "[encoded data removed]",
      "text/plain": [
       "<Figure size 640x480 with 1 Axes>"
      ]
     },
     "metadata": {},
     "output_type": "display_data"
    }
   ],
   "source": [
    "import matplotlib.pyplot as plt\n",
    "plt.scatter(df['TV'],df['Sales'])\n",
    "plt.xlabel('TV')\n",
    "plt.ylabel('Sales')\n",
    "plt.show()"
   ]
  },
  {
   "cell_type": "code",
   "execution_count": 8,
   "metadata": {},
   "outputs": [],
   "source": [
    "x=df['TV']\n",
    "y=df['Sales']"
   ]
  },
  {
   "cell_type": "code",
   "execution_count": 12,
   "metadata": {},
   "outputs": [
    {
     "name": "stdout",
     "output_type": "stream",
     "text": [
      "(140,)\n",
      "(60,)\n",
      "(140,)\n",
      "(60,)\n"
     ]
    }
   ],
   "source": [
    "from sklearn.model_selection import train_test_split\n",
    "X_train,X_test,y_train,y_test=train_test_split(x,y,train_size=0.7)\n",
    "print(X_train.shape)\n",
    "print(X_test.shape)\n",
    "print(y_train.shape)\n",
    "print(y_test.shape)\n"
   ]
  },
  {
   "cell_type": "code",
   "execution_count": null,
   "metadata": {},
   "outputs": [
    {
     "name": "stdout",
     "output_type": "stream",
     "text": [
      "Slope (m): 0.04530210481586993\n",
      "Intercept (c): 7.169026266601701\n"
     ]
    }
   ],
   "source": [
    "# Number of training samples\n",
    "import numpy as np\n",
    "N = len(X_train)\n",
    "sum_X = np.sum(X_train)\n",
    "sum_Y = np.sum(y_train)\n",
    "sum_XY = np.sum(X_train * y_train)\n",
    "sum_X2 = np.sum(X_train ** 2)\n",
    "m = (N * sum_XY - sum_X * sum_Y) / (N * sum_X2 - sum_X ** 2)\n",
    "c = (sum_Y - m * sum_X) / N\n",
    "print(f\"Slope (m): {m}\")\n",
    "print(f\"Intercept (c): {c}\")\n"
   ]
  },
  {
   "cell_type": "code",
   "execution_count": 13,
   "metadata": {},
   "outputs": [
    {
     "name": "stdout",
     "output_type": "stream",
     "text": [
      "[[0.0453021]]\n",
      "[7.16902627]\n",
      "0.5866448864047346\n"
     ]
    }
   ],
   "source": [
    "import numpy as np\n",
    "from sklearn.linear_model import LinearRegression\n",
    "X_train=np.array(X_train).reshape(-1,1)\n",
    "y_train=np.array(y_train).reshape(-1,1)\n",
    "model=LinearRegression()\n",
    "model.fit(X_train,y_train)\n",
    "print(model.coef_)\n",
    "print(model.intercept_)\n",
    "print(model.score(X_train,y_train))"
   ]
  },
  {
   "cell_type": "markdown",
   "metadata": {},
   "source": [
    "10.Create the model using the calculated coefficients and make predictions on\n",
    "the testing set"
   ]
  },
  {
   "cell_type": "code",
   "execution_count": 32,
   "metadata": {},
   "outputs": [
    {
     "name": "stdout",
     "output_type": "stream",
     "text": [
      "xpredict  [[ 8.01617563]\n",
      " [11.57239085]\n",
      " [16.71870996]\n",
      " [19.71317909]\n",
      " [11.5044377 ]\n",
      " [11.05141665]\n",
      " [12.74571537]\n",
      " [ 7.55862437]\n",
      " [13.03111863]\n",
      " [12.47843295]\n",
      " [12.61433927]\n",
      " [ 9.11701677]\n",
      " [13.41618652]\n",
      " [19.86267604]\n",
      " [20.01670319]\n",
      " [ 7.56315458]\n",
      " [10.63010707]\n",
      " [20.12542824]\n",
      " [16.34270249]\n",
      " [16.92709964]\n",
      " [16.54203175]\n",
      " [12.86350084]\n",
      " [20.29304603]\n",
      " [16.12072218]\n",
      " [15.44119061]\n",
      " [18.03700121]\n",
      " [ 9.18496993]\n",
      " [11.16920212]\n",
      " [16.12072218]\n",
      " [15.10142482]\n",
      " [16.22038681]\n",
      " [19.26015804]\n",
      " [18.04606163]\n",
      " [ 7.54956395]\n",
      " [ 7.94822247]\n",
      " [ 7.41365763]\n",
      " [ 8.0478871 ]\n",
      " [11.58598149]\n",
      " [16.99052259]\n",
      " [ 7.69906089]\n",
      " [16.02105755]\n",
      " [19.18314446]\n",
      " [12.2836339 ]\n",
      " [ 7.52238268]\n",
      " [ 8.59604257]\n",
      " [15.94404397]\n",
      " [10.71165086]\n",
      " [ 9.43413151]\n",
      " [14.62122251]\n",
      " [10.24050897]\n",
      " [ 8.30157889]\n",
      " [19.07894962]\n",
      " [17.15814038]\n",
      " [19.91703856]\n",
      " [11.52708875]\n",
      " [ 8.3061091 ]\n",
      " [18.118545  ]\n",
      " [13.29387084]\n",
      " [13.84202631]\n",
      " [10.63010707]]\n",
      "Ypredict  [[ 8.01617563]\n",
      " [11.57239085]\n",
      " [16.71870996]\n",
      " [19.71317909]\n",
      " [11.5044377 ]\n",
      " [11.05141665]\n",
      " [12.74571537]\n",
      " [ 7.55862437]\n",
      " [13.03111863]\n",
      " [12.47843295]\n",
      " [12.61433927]\n",
      " [ 9.11701677]\n",
      " [13.41618652]\n",
      " [19.86267604]\n",
      " [20.01670319]\n",
      " [ 7.56315458]\n",
      " [10.63010707]\n",
      " [20.12542824]\n",
      " [16.34270249]\n",
      " [16.92709964]\n",
      " [16.54203175]\n",
      " [12.86350084]\n",
      " [20.29304603]\n",
      " [16.12072218]\n",
      " [15.44119061]\n",
      " [18.03700121]\n",
      " [ 9.18496993]\n",
      " [11.16920212]\n",
      " [16.12072218]\n",
      " [15.10142482]\n",
      " [16.22038681]\n",
      " [19.26015804]\n",
      " [18.04606163]\n",
      " [ 7.54956395]\n",
      " [ 7.94822247]\n",
      " [ 7.41365763]\n",
      " [ 8.0478871 ]\n",
      " [11.58598149]\n",
      " [16.99052259]\n",
      " [ 7.69906089]\n",
      " [16.02105755]\n",
      " [19.18314446]\n",
      " [12.2836339 ]\n",
      " [ 7.52238268]\n",
      " [ 8.59604257]\n",
      " [15.94404397]\n",
      " [10.71165086]\n",
      " [ 9.43413151]\n",
      " [14.62122251]\n",
      " [10.24050897]\n",
      " [ 8.30157889]\n",
      " [19.07894962]\n",
      " [17.15814038]\n",
      " [19.91703856]\n",
      " [11.52708875]\n",
      " [ 8.3061091 ]\n",
      " [18.118545  ]\n",
      " [13.29387084]\n",
      " [13.84202631]\n",
      " [10.63010707]]\n"
     ]
    }
   ],
   "source": [
    "# Create the model using the calculated coefficients and make predictions on the testing set\n",
    "X_test=np.array(X_test).reshape(-1,1)\n",
    "X_pred=model.predict(X_test)\n",
    "print(\"xpredict \",X_pred)\n",
    "y_test=np.array(y_test).reshape(-1,1)\n",
    "y_pred=model.predict(X_test)\n",
    "print(\"Ypredict \",y_pred)"
   ]
  },
  {
   "cell_type": "markdown",
   "metadata": {},
   "source": [
    "11.Perform Linear Regression using library(sklearn)"
   ]
  },
  {
   "cell_type": "code",
   "execution_count": null,
   "metadata": {},
   "outputs": [
    {
     "data": {
      "image/png": "[encoded data removed]",
      "text/plain": [
       "<Figure size 640x480 with 1 Axes>"
      ]
     },
     "metadata": {},
     "output_type": "display_data"
    }
   ],
   "source": [
    "# Plot the test data and the predicted data\n",
    "plt.scatter(X_test,y_test)\n",
    "plt.plot(X_test,y_pred)\n",
    "plt.xlabel('TV')\n",
    "plt.ylabel('Sales')\n",
    "plt.show()"
   ]
  },
  {
   "cell_type": "code",
   "execution_count": 22,
   "metadata": {},
   "outputs": [
    {
     "name": "stdout",
     "output_type": "stream",
     "text": [
      "[[ 8.01617563]\n",
      " [11.57239085]\n",
      " [16.71870996]\n",
      " [19.71317909]\n",
      " [11.5044377 ]\n",
      " [11.05141665]\n",
      " [12.74571537]\n",
      " [ 7.55862437]\n",
      " [13.03111863]\n",
      " [12.47843295]\n",
      " [12.61433927]\n",
      " [ 9.11701677]\n",
      " [13.41618652]\n",
      " [19.86267604]\n",
      " [20.01670319]\n",
      " [ 7.56315458]\n",
      " [10.63010707]\n",
      " [20.12542824]\n",
      " [16.34270249]\n",
      " [16.92709964]\n",
      " [16.54203175]\n",
      " [12.86350084]\n",
      " [20.29304603]\n",
      " [16.12072218]\n",
      " [15.44119061]\n",
      " [18.03700121]\n",
      " [ 9.18496993]\n",
      " [11.16920212]\n",
      " [16.12072218]\n",
      " [15.10142482]\n",
      " [16.22038681]\n",
      " [19.26015804]\n",
      " [18.04606163]\n",
      " [ 7.54956395]\n",
      " [ 7.94822247]\n",
      " [ 7.41365763]\n",
      " [ 8.0478871 ]\n",
      " [11.58598149]\n",
      " [16.99052259]\n",
      " [ 7.69906089]\n",
      " [16.02105755]\n",
      " [19.18314446]\n",
      " [12.2836339 ]\n",
      " [ 7.52238268]\n",
      " [ 8.59604257]\n",
      " [15.94404397]\n",
      " [10.71165086]\n",
      " [ 9.43413151]\n",
      " [14.62122251]\n",
      " [10.24050897]\n",
      " [ 8.30157889]\n",
      " [19.07894962]\n",
      " [17.15814038]\n",
      " [19.91703856]\n",
      " [11.52708875]\n",
      " [ 8.3061091 ]\n",
      " [18.118545  ]\n",
      " [13.29387084]\n",
      " [13.84202631]\n",
      " [10.63010707]]\n"
     ]
    }
   ],
   "source": [
    "# Make predictions on the testing set - y_pred\n",
    "y_pred=model.predict(X_test)\n",
    "print(y_pred)\n"
   ]
  },
  {
   "cell_type": "code",
   "execution_count": 23,
   "metadata": {},
   "outputs": [
    {
     "data": {
      "image/png": "[encoded data removed]",
      "text/plain": [
       "<Figure size 640x480 with 1 Axes>"
      ]
     },
     "metadata": {},
     "output_type": "display_data"
    }
   ],
   "source": [
    "# Plot train data and the model\n",
    "plt.scatter(X_train,y_train)\n",
    "plt.plot(X_train,model.predict(X_train))\n",
    "plt.xlabel('TV')\n",
    "plt.ylabel('Sales')\n",
    "plt.title('Training Data')\n",
    "plt.show()\n"
   ]
  },
  {
   "cell_type": "code",
   "execution_count": 24,
   "metadata": {},
   "outputs": [
    {
     "data": {
      "image/png": "[encoded data removed]",
      "text/plain": [
       "<Figure size 640x480 with 1 Axes>"
      ]
     },
     "metadata": {},
     "output_type": "display_data"
    }
   ],
   "source": [
    "# Plot test data and the model\n",
    "plt.scatter(X_test,y_test)\n",
    "plt.plot(X_test,model.predict(X_test))\n",
    "plt.xlabel('TV')\n",
    "plt.ylabel('Sales')\n",
    "plt.title('Testing Data')\n",
    "plt.show()"
   ]
  },
  {
   "cell_type": "code",
   "execution_count": 25,
   "metadata": {},
   "outputs": [
    {
     "name": "stdout",
     "output_type": "stream",
     "text": [
      "Mean Squared Error: 12.049456074688607\n",
      "R Squared Value: 0.6462318824797525\n"
     ]
    }
   ],
   "source": [
    "# Print Mean Squared Error and R Squared Value\n",
    "from sklearn.metrics import mean_squared_error,r2_score\n",
    "print('Mean Squared Error:',mean_squared_error(y_test,y_pred))\n",
    "print('R Squared Value:',r2_score(y_test,y_pred))\n"
   ]
  },
  {
   "cell_type": "code",
   "execution_count": null,
   "metadata": {},
   "outputs": [],
   "source": []
  },
  {
   "cell_type": "code",
   "execution_count": null,
   "metadata": {},
   "outputs": [],
   "source": []
  }
 ],
 "metadata": {
  "kernelspec": {
   "display_name": "base",
   "language": "python",
   "name": "python3"
  },
  "language_info": {
   "codemirror_mode": {
    "name": "ipython",
    "version": 3
   },
   "file_extension": ".py",
   "mimetype": "text/x-python",
   "name": "python",
   "nbconvert_exporter": "python",
   "pygments_lexer": "ipython3",
   "version": "3.12.4"
  }
 },
 "nbformat": 4,
 "nbformat_minor": 2
}
