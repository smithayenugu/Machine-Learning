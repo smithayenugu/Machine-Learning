{
 "cells": [
  {
   "cell_type": "code",
   "execution_count": 1,
   "metadata": {},
   "outputs": [
    {
     "name": "stdout",
     "output_type": "stream",
     "text": [
      "hello world\n"
     ]
    }
   ],
   "source": [
    "print(\"hello world\")"
   ]
  },
  {
   "cell_type": "code",
   "execution_count": 2,
   "metadata": {},
   "outputs": [
    {
     "name": "stdout",
     "output_type": "stream",
     "text": [
      "0    10\n",
      "1    20\n",
      "2    30\n",
      "3    40\n",
      "dtype: int64\n"
     ]
    }
   ],
   "source": [
    "import pandas as pd\n",
    "data = [10, 20, 30, 40]\n",
    "v = pd.Series(data)\n",
    "print(v)"
   ]
  },
  {
   "cell_type": "code",
   "execution_count": 3,
   "metadata": {},
   "outputs": [
    {
     "name": "stdout",
     "output_type": "stream",
     "text": [
      "      Name  Age         City\n",
      "0    Alice   25     New York\n",
      "1      Bob   30  Los Angeles\n",
      "2  Charlie   35      Chicago\n"
     ]
    }
   ],
   "source": [
    "data = {\n",
    "'Name': ['Alice', 'Bob', 'Charlie'],\n",
    "'Age': [25, 30, 35],\n",
    "'City': ['New York', 'Los Angeles', 'Chicago']\n",
    "}\n",
    "df = pd.DataFrame(data)\n",
    "print(df)"
   ]
  },
  {
   "cell_type": "code",
   "execution_count": 4,
   "metadata": {},
   "outputs": [
    {
     "name": "stdout",
     "output_type": "stream",
     "text": [
      "      Name class  Age         City  marks grades\n",
      "0    Alice     A   20     New York     85      A\n",
      "1      Bob     B   21  Los Angeles     88      B\n",
      "2  Charlie     C   19      Chicago     89      A\n"
     ]
    }
   ],
   "source": [
    "data1={\n",
    "  'Name': ['Alice', 'Bob', 'Charlie'],\n",
    "  'class': ['A', 'B', 'C'],\n",
    "  'Age': [20, 21, 19],\n",
    "  'City': ['New York', 'Los Angeles', 'Chicago'],\n",
    "  'marks': [85, 88, 89],\n",
    "  'grades' : ['A', 'B', 'A']\n",
    "}\n",
    "df=pd.DataFrame(data1)\n",
    "print(df)"
   ]
  },
  {
   "cell_type": "code",
   "execution_count": 10,
   "metadata": {},
   "outputs": [
    {
     "name": "stdout",
     "output_type": "stream",
     "text": [
      "   TransactionID TransactionDate  UserID  ProductID  Quantity\n",
      "0              1      2010-08-21     7.0          2         1\n",
      "1              2      2011-05-26     3.0          4         1\n",
      "2              3      2011-06-16     3.0          3         1\n",
      "3              4      2012-08-26     1.0          2         3\n",
      "4              5      2013-06-06     2.0          4         1\n"
     ]
    }
   ],
   "source": [
    "df=pd.read_csv('transactions.csv')\n",
    "# print(df)\n",
    "print(df.head(5))"
   ]
  },
  {
   "cell_type": "code",
   "execution_count": 13,
   "metadata": {},
   "outputs": [
    {
     "name": "stdout",
     "output_type": "stream",
     "text": [
      "   TransactionID TransactionDate  UserID  ProductID  Quantity\n",
      "7              8      2014-04-24     NaN          2         3\n",
      "8              9      2015-04-24     7.0          4         3\n",
      "9             10      2016-05-08     3.0          4         4\n"
     ]
    }
   ],
   "source": [
    "print(df.tail(3))"
   ]
  },
  {
   "cell_type": "code",
   "execution_count": 14,
   "metadata": {},
   "outputs": [
    {
     "name": "stdout",
     "output_type": "stream",
     "text": [
      "<class 'pandas.core.frame.DataFrame'>\n",
      "RangeIndex: 10 entries, 0 to 9\n",
      "Data columns (total 5 columns):\n",
      " #   Column           Non-Null Count  Dtype  \n",
      "---  ------           --------------  -----  \n",
      " 0   TransactionID    10 non-null     int64  \n",
      " 1   TransactionDate  10 non-null     object \n",
      " 2   UserID           9 non-null      float64\n",
      " 3   ProductID        10 non-null     int64  \n",
      " 4   Quantity         10 non-null     int64  \n",
      "dtypes: float64(1), int64(3), object(1)\n",
      "memory usage: 532.0+ bytes\n",
      "None\n"
     ]
    }
   ],
   "source": [
    "print(df.info())"
   ]
  },
  {
   "cell_type": "code",
   "execution_count": 15,
   "metadata": {},
   "outputs": [
    {
     "name": "stdout",
     "output_type": "stream",
     "text": [
      "       TransactionID    UserID  ProductID   Quantity\n",
      "count       10.00000  9.000000  10.000000  10.000000\n",
      "mean         5.50000  3.444444   3.400000   2.400000\n",
      "std          3.02765  2.127858   1.074968   1.712698\n",
      "min          1.00000  1.000000   2.000000   1.000000\n",
      "25%          3.25000  2.000000   2.250000   1.000000\n",
      "50%          5.50000  3.000000   4.000000   2.000000\n",
      "75%          7.75000  3.000000   4.000000   3.000000\n",
      "max         10.00000  7.000000   5.000000   6.000000\n"
     ]
    }
   ],
   "source": [
    "print(df.describe())"
   ]
  },
  {
   "cell_type": "code",
   "execution_count": 18,
   "metadata": {},
   "outputs": [
    {
     "name": "stdout",
     "output_type": "stream",
     "text": [
      "0    2010-08-21\n",
      "1    2011-05-26\n",
      "2    2011-06-16\n",
      "3    2012-08-26\n",
      "4    2013-06-06\n",
      "5    2013-12-23\n",
      "6    2013-12-30\n",
      "7    2014-04-24\n",
      "8    2015-04-24\n",
      "9    2016-05-08\n",
      "Name: TransactionDate, dtype: object\n"
     ]
    }
   ],
   "source": [
    "print(df['TransactionDate'])"
   ]
  },
  {
   "cell_type": "code",
   "execution_count": 20,
   "metadata": {},
   "outputs": [
    {
     "name": "stdout",
     "output_type": "stream",
     "text": [
      "  TransactionDate  ProductID  Quantity\n",
      "0      2010-08-21          2         1\n",
      "1      2011-05-26          4         1\n",
      "2      2011-06-16          3         1\n",
      "3      2012-08-26          2         3\n",
      "4      2013-06-06          4         1\n",
      "5      2013-12-23          5         6\n",
      "6      2013-12-30          4         1\n",
      "7      2014-04-24          2         3\n",
      "8      2015-04-24          4         3\n",
      "9      2016-05-08          4         4\n"
     ]
    }
   ],
   "source": [
    "print(df[['TransactionDate', 'ProductID', 'Quantity']])"
   ]
  },
  {
   "cell_type": "code",
   "execution_count": 21,
   "metadata": {},
   "outputs": [
    {
     "name": "stdout",
     "output_type": "stream",
     "text": [
      "TransactionID               2\n",
      "TransactionDate    2011-05-26\n",
      "UserID                    3.0\n",
      "ProductID                   4\n",
      "Quantity                    1\n",
      "Name: 1, dtype: object\n"
     ]
    }
   ],
   "source": [
    "print(df.iloc[1])"
   ]
  },
  {
   "cell_type": "code",
   "execution_count": 24,
   "metadata": {},
   "outputs": [
    {
     "name": "stdout",
     "output_type": "stream",
     "text": [
      "TransactionID               4\n",
      "TransactionDate    2012-08-26\n",
      "UserID                    1.0\n",
      "ProductID                   2\n",
      "Quantity                    3\n",
      "Name: 3, dtype: object\n"
     ]
    }
   ],
   "source": [
    "print(df.iloc[3])"
   ]
  },
  {
   "cell_type": "code",
   "execution_count": 30,
   "metadata": {},
   "outputs": [
    {
     "name": "stdout",
     "output_type": "stream",
     "text": [
      "   TransactionID TransactionDate  UserID  ProductID  Quantity\n",
      "5              6      2013-12-23     2.0          5         6\n",
      "9             10      2016-05-08     3.0          4         4\n"
     ]
    }
   ],
   "source": [
    "filtered_df = df[df['Quantity']>3]\n",
    "print(filtered_df)"
   ]
  },
  {
   "cell_type": "code",
   "execution_count": 31,
   "metadata": {},
   "outputs": [
    {
     "name": "stdout",
     "output_type": "stream",
     "text": [
      "   TransactionID        Date  UserID  ProductID  Quantity\n",
      "0              1  2010-08-21     7.0          2         1\n",
      "1              2  2011-05-26     3.0          4         1\n",
      "2              3  2011-06-16     3.0          3         1\n",
      "3              4  2012-08-26     1.0          2         3\n",
      "4              5  2013-06-06     2.0          4         1\n",
      "5              6  2013-12-23     2.0          5         6\n",
      "6              7  2013-12-30     3.0          4         1\n",
      "7              8  2014-04-24     NaN          2         3\n",
      "8              9  2015-04-24     7.0          4         3\n",
      "9             10  2016-05-08     3.0          4         4\n"
     ]
    }
   ],
   "source": [
    "df.rename(columns={'TransactionDate':'Date'}, inplace=True)\n",
    "print(df)"
   ]
  },
  {
   "cell_type": "code",
   "execution_count": 32,
   "metadata": {},
   "outputs": [
    {
     "name": "stdout",
     "output_type": "stream",
     "text": [
      "TransactionID    0\n",
      "Date             0\n",
      "UserID           1\n",
      "ProductID        0\n",
      "Quantity         0\n",
      "dtype: int64\n"
     ]
    }
   ],
   "source": [
    "print(df.isnull().sum())"
   ]
  },
  {
   "cell_type": "code",
   "execution_count": 34,
   "metadata": {},
   "outputs": [
    {
     "name": "stdout",
     "output_type": "stream",
     "text": [
      "   TransactionID        Date  UserID  ProductID  Quantity\n",
      "6              7  2013-12-30     3.0          4         1\n",
      "4              5  2013-06-06     2.0          4         1\n",
      "2              3  2011-06-16     3.0          3         1\n",
      "1              2  2011-05-26     3.0          4         1\n",
      "0              1  2010-08-21     7.0          2         1\n",
      "8              9  2015-04-24     7.0          4         3\n",
      "7              8  2014-04-24     NaN          2         3\n",
      "3              4  2012-08-26     1.0          2         3\n",
      "9             10  2016-05-08     3.0          4         4\n",
      "5              6  2013-12-23     2.0          5         6\n"
     ]
    }
   ],
   "source": [
    "df_sorted = df.sort_values(by=[\"Quantity\", \"Date\"],\n",
    "ascending=[True, False])\n",
    "print(df_sorted)"
   ]
  },
  {
   "cell_type": "code",
   "execution_count": 35,
   "metadata": {},
   "outputs": [
    {
     "name": "stdout",
     "output_type": "stream",
     "text": [
      "   TransactionID        Date  UserID  ProductID  Quantity\n",
      "3              4  2012-08-26     1.0          2         3\n",
      "5              6  2013-12-23     2.0          5         6\n",
      "7              8  2014-04-24     NaN          2         3\n",
      "8              9  2015-04-24     7.0          4         3\n",
      "9             10  2016-05-08     3.0          4         4\n"
     ]
    }
   ],
   "source": [
    "subset = df[df['Quantity'] > 1]\n",
    "print(subset)"
   ]
  },
  {
   "cell_type": "code",
   "execution_count": 36,
   "metadata": {},
   "outputs": [
    {
     "name": "stdout",
     "output_type": "stream",
     "text": [
      "   TransactionID        Date  UserID  ProductID  Quantity\n",
      "0              1  2010-08-21     7.0          2         1\n",
      "2              3  2011-06-16     3.0          3         1\n",
      "5              6  2013-12-23     2.0          5         6\n"
     ]
    }
   ],
   "source": [
    "subset_rows = df.iloc[[0, 2, 5]]\n",
    "print(subset_rows)"
   ]
  },
  {
   "cell_type": "code",
   "execution_count": 38,
   "metadata": {},
   "outputs": [
    {
     "name": "stdout",
     "output_type": "stream",
     "text": [
      "   TransactionID        Date\n",
      "3              4  2012-08-26\n",
      "5              6  2013-12-23\n",
      "7              8  2014-04-24\n",
      "8              9  2015-04-24\n",
      "9             10  2016-05-08\n"
     ]
    }
   ],
   "source": [
    "subset = df[df['Quantity'] > 1][['TransactionID',\n",
    "'Date']]\n",
    "print(subset)"
   ]
  },
  {
   "cell_type": "code",
   "execution_count": 44,
   "metadata": {},
   "outputs": [
    {
     "name": "stdout",
     "output_type": "stream",
     "text": [
      "   TransactionID        Date\n",
      "0              1  2010-08-21\n",
      "1              2  2011-05-26\n",
      "2              3  2011-06-16\n",
      "3              4  2012-08-26\n",
      "4              5  2013-06-06\n",
      "5              6  2013-12-23\n",
      "6              7  2013-12-30\n",
      "7              8  2014-04-24\n",
      "8              9  2015-04-24\n",
      "9             10  2016-05-08\n"
     ]
    }
   ],
   "source": [
    "columns_to_select = ['TransactionID', 'Date']\n",
    "subset_columns = df[columns_to_select]\n",
    "print(subset_columns)"
   ]
  },
  {
   "cell_type": "code",
   "execution_count": 45,
   "metadata": {},
   "outputs": [
    {
     "name": "stdout",
     "output_type": "stream",
     "text": [
      "   TransactionID        Date  UserID\n",
      "0              1  2010-08-21     7.0\n",
      "1              2  2011-05-26     3.0\n",
      "2              3  2011-06-16     3.0\n",
      "3              4  2012-08-26     1.0\n",
      "4              5  2013-06-06     2.0\n",
      "5              6  2013-12-23     2.0\n",
      "6              7  2013-12-30     3.0\n",
      "7              8  2014-04-24     NaN\n",
      "8              9  2015-04-24     7.0\n",
      "9             10  2016-05-08     3.0\n"
     ]
    }
   ],
   "source": [
    "columns_to_exclude = ['Quantity', 'ProductID']\n",
    "subset_columns_excluded = df[[col for col in df.columns if col not\n",
    "in columns_to_exclude]]\n",
    "print(subset_columns_excluded)"
   ]
  },
  {
   "cell_type": "code",
   "execution_count": 46,
   "metadata": {},
   "outputs": [
    {
     "name": "stdout",
     "output_type": "stream",
     "text": [
      "TransactionID             int64\n",
      "Date             datetime64[ns]\n",
      "UserID                  float64\n",
      "ProductID                 int64\n",
      "Quantity                  int64\n",
      "dtype: object\n"
     ]
    }
   ],
   "source": [
    "df['Date'] = pd.to_datetime(df['Date'])\n",
    "print(df.dtypes)"
   ]
  },
  {
   "cell_type": "code",
   "execution_count": 47,
   "metadata": {},
   "outputs": [
    {
     "name": "stdout",
     "output_type": "stream",
     "text": [
      "   TransactionID       Date  UserID  ProductID  Quantity\n",
      "0              1 2010-08-21     7.0          2         1\n",
      "1              2 2011-05-26     3.0          4         1\n",
      "2              3 2011-06-16     3.0          3         1\n",
      "3              4 2012-08-26     1.0          2         3\n",
      "4              5 2013-06-06     2.0          4         1\n",
      "5              6 2013-12-23     2.0          5         6\n",
      "6              7 2013-12-30     3.0          4         1\n",
      "7              8 2014-04-24     NaN          2         3\n",
      "8              9 2015-04-24     7.0          4         3\n",
      "9             10 2016-05-08     3.0          4         4\n"
     ]
    }
   ],
   "source": [
    "print(df)"
   ]
  },
  {
   "cell_type": "code",
   "execution_count": 50,
   "metadata": {},
   "outputs": [
    {
     "name": "stdout",
     "output_type": "stream",
     "text": [
      "   TransactionID       Date  UserID  ProductID  Quantity   Foo\n",
      "0              1 2010-08-21     7.0          2         1   9.0\n",
      "1              2 2011-05-26     3.0          4         1   7.0\n",
      "2              3 2011-06-16     3.0          3         1   6.0\n",
      "3              4 2012-08-26     1.0          2         3   3.0\n",
      "4              5 2013-06-06     2.0          4         1   6.0\n",
      "5              6 2013-12-23     2.0          5         6   7.0\n",
      "6              7 2013-12-30     3.0          4         1   7.0\n",
      "7              8 2014-04-24     NaN          2         3   NaN\n",
      "8              9 2015-04-24     7.0          4         3  11.0\n",
      "9             10 2016-05-08     3.0          4         4   7.0\n"
     ]
    }
   ],
   "source": [
    "df['Foo'] = df['UserID'] + df['ProductID']\n",
    "print(df)"
   ]
  },
  {
   "cell_type": "code",
   "execution_count": 51,
   "metadata": {},
   "outputs": [],
   "source": [
    "df.loc[len(df)] = [11, '2016-05-08', 3, 4,5,7]"
   ]
  },
  {
   "cell_type": "code",
   "execution_count": 52,
   "metadata": {},
   "outputs": [
    {
     "name": "stdout",
     "output_type": "stream",
     "text": [
      "    TransactionID                 Date  UserID  ProductID  Quantity   Foo\n",
      "0               1  2010-08-21 00:00:00     7.0          2         1   9.0\n",
      "1               2  2011-05-26 00:00:00     3.0          4         1   7.0\n",
      "2               3  2011-06-16 00:00:00     3.0          3         1   6.0\n",
      "3               4  2012-08-26 00:00:00     1.0          2         3   3.0\n",
      "4               5  2013-06-06 00:00:00     2.0          4         1   6.0\n",
      "5               6  2013-12-23 00:00:00     2.0          5         6   7.0\n",
      "6               7  2013-12-30 00:00:00     3.0          4         1   7.0\n",
      "7               8  2014-04-24 00:00:00     NaN          2         3   NaN\n",
      "8               9  2015-04-24 00:00:00     7.0          4         3  11.0\n",
      "9              10  2016-05-08 00:00:00     3.0          4         4   7.0\n",
      "10             11           2016-05-08     3.0          4         5   7.0\n"
     ]
    }
   ],
   "source": [
    "print(df)"
   ]
  },
  {
   "cell_type": "code",
   "execution_count": 53,
   "metadata": {},
   "outputs": [
    {
     "name": "stdout",
     "output_type": "stream",
     "text": [
      "    TransactionID                 Date  UserID  ProductID  Quantity   Foo\n",
      "0               1  2010-08-21 00:00:00     7.0          2         1   9.0\n",
      "1               2  2011-05-26 00:00:00     3.0          4         1   7.0\n",
      "2               3  2011-06-16 00:00:00     3.0          3         1   6.0\n",
      "3               4  2012-08-26 00:00:00     1.0          2         3   3.0\n",
      "4               5  2013-06-06 00:00:00     2.0          4        12   6.0\n",
      "5               6  2013-12-23 00:00:00     2.0          5        12   7.0\n",
      "6               7  2013-12-30 00:00:00     3.0          4         1   7.0\n",
      "7               8  2014-04-24 00:00:00     NaN          2         3   NaN\n",
      "8               9  2015-04-24 00:00:00     7.0          4         3  11.0\n",
      "9              10  2016-05-08 00:00:00     3.0          4         4   7.0\n",
      "10             11           2016-05-08     3.0          4         5   7.0\n"
     ]
    }
   ],
   "source": [
    "df.loc[df['UserID'] == 2, 'Quantity'] = 12\n",
    "print(df)"
   ]
  },
  {
   "cell_type": "code",
   "execution_count": 54,
   "metadata": {},
   "outputs": [],
   "source": [
    "df['NewColumn'] = df['Quantity'] * 2"
   ]
  },
  {
   "cell_type": "code",
   "execution_count": 55,
   "metadata": {},
   "outputs": [
    {
     "name": "stdout",
     "output_type": "stream",
     "text": [
      "    TransactionID                 Date  UserID  ProductID  Quantity   Foo  \\\n",
      "0               1  2010-08-21 00:00:00     7.0          2         1   9.0   \n",
      "1               2  2011-05-26 00:00:00     3.0          4         1   7.0   \n",
      "2               3  2011-06-16 00:00:00     3.0          3         1   6.0   \n",
      "3               4  2012-08-26 00:00:00     1.0          2         3   3.0   \n",
      "4               5  2013-06-06 00:00:00     2.0          4        12   6.0   \n",
      "5               6  2013-12-23 00:00:00     2.0          5        12   7.0   \n",
      "6               7  2013-12-30 00:00:00     3.0          4         1   7.0   \n",
      "7               8  2014-04-24 00:00:00     NaN          2         3   NaN   \n",
      "8               9  2015-04-24 00:00:00     7.0          4         3  11.0   \n",
      "9              10  2016-05-08 00:00:00     3.0          4         4   7.0   \n",
      "10             11           2016-05-08     3.0          4         5   7.0   \n",
      "\n",
      "    NewColumn  \n",
      "0           2  \n",
      "1           2  \n",
      "2           2  \n",
      "3           6  \n",
      "4          24  \n",
      "5          24  \n",
      "6           2  \n",
      "7           6  \n",
      "8           6  \n",
      "9           8  \n",
      "10         10  \n"
     ]
    }
   ],
   "source": [
    "print(df)"
   ]
  },
  {
   "cell_type": "code",
   "execution_count": 56,
   "metadata": {},
   "outputs": [
    {
     "name": "stdout",
     "output_type": "stream",
     "text": [
      "   TransactionID TransactionDate  UserID  ProductID  Quantity\n",
      "0              1      2010-08-21     7.0          2         1\n",
      "1              2      2011-05-26     3.0          4         1\n",
      "2              3      2011-06-16     3.0          3         1\n",
      "3              4      2012-08-26     1.0          2         3\n",
      "4              5      2013-06-06     2.0          4         1\n",
      "5              6      2013-12-23     2.0          5         6\n",
      "6              7      2013-12-30     3.0          4         1\n",
      "7              8      2014-04-24     NaN          2         3\n",
      "8              9      2015-04-24     7.0          4         3\n",
      "9             10      2016-05-08     3.0          4         4\n"
     ]
    }
   ],
   "source": [
    "edf=pd.read_csv('transactions.csv')\n",
    "print(edf)"
   ]
  },
  {
   "cell_type": "code",
   "execution_count": 57,
   "metadata": {},
   "outputs": [
    {
     "name": "stdout",
     "output_type": "stream",
     "text": [
      "   TransactionID        Date  UserID  ProductID  Quantity\n",
      "0              1  2010-08-21     7.0          2         1\n",
      "1              2  2011-05-26     3.0          4         1\n",
      "2              3  2011-06-16     3.0          3         1\n",
      "3              4  2012-08-26     1.0          2         3\n",
      "4              5  2013-06-06     2.0          4         1\n",
      "5              6  2013-12-23     2.0          5         6\n",
      "6              7  2013-12-30     3.0          4         1\n",
      "7              8  2014-04-24     NaN          2         3\n",
      "8              9  2015-04-24     7.0          4         3\n",
      "9             10  2016-05-08     3.0          4         4\n"
     ]
    }
   ],
   "source": [
    "edf.rename(columns={'TransactionDate':'Date'}, inplace=True)\n",
    "print(edf)"
   ]
  },
  {
   "cell_type": "code",
   "execution_count": 58,
   "metadata": {},
   "outputs": [
    {
     "name": "stdout",
     "output_type": "stream",
     "text": [
      "   ID        Date  UserID  ProductID  Quantity\n",
      "0   1  2010-08-21     7.0          2         1\n",
      "1   2  2011-05-26     3.0          4         1\n",
      "2   3  2011-06-16     3.0          3         1\n",
      "3   4  2012-08-26     1.0          2         3\n",
      "4   5  2013-06-06     2.0          4         1\n",
      "5   6  2013-12-23     2.0          5         6\n",
      "6   7  2013-12-30     3.0          4         1\n",
      "7   8  2014-04-24     NaN          2         3\n",
      "8   9  2015-04-24     7.0          4         3\n",
      "9  10  2016-05-08     3.0          4         4\n"
     ]
    }
   ],
   "source": [
    "edf.rename(columns={'TransactionID':'ID'}, inplace=True)\n",
    "print(edf)"
   ]
  },
  {
   "cell_type": "code",
   "execution_count": 60,
   "metadata": {},
   "outputs": [
    {
     "name": "stdout",
     "output_type": "stream",
     "text": [
      "total number of rows : 10\n"
     ]
    }
   ],
   "source": [
    "print(\"total number of rows :\",len(edf))"
   ]
  },
  {
   "cell_type": "code",
   "execution_count": 61,
   "metadata": {},
   "outputs": [
    {
     "name": "stdout",
     "output_type": "stream",
     "text": [
      "total number of columns : 5\n"
     ]
    }
   ],
   "source": [
    "print(\"total number of columns :\",len(edf.columns))"
   ]
  },
  {
   "cell_type": "code",
   "execution_count": 62,
   "metadata": {},
   "outputs": [
    {
     "name": "stdout",
     "output_type": "stream",
     "text": [
      "row names: [0 1 2 3 4 5 6 7 8 9]\n"
     ]
    }
   ],
   "source": [
    "print(\"row names:\",edf.index.values)"
   ]
  },
  {
   "cell_type": "code",
   "execution_count": 63,
   "metadata": {},
   "outputs": [
    {
     "name": "stdout",
     "output_type": "stream",
     "text": [
      "column names: ['ID' 'Date' 'UserID' 'ProductID' 'Quantity']\n"
     ]
    }
   ],
   "source": [
    "print(\"column names:\",edf.columns.values)"
   ]
  },
  {
   "cell_type": "code",
   "execution_count": 64,
   "metadata": {},
   "outputs": [
    {
     "name": "stdout",
     "output_type": "stream",
     "text": [
      "   ID        Date  UserID  ProductID  Quantity\n",
      "0   1  2010-08-21     7.0          2         1\n",
      "1   2  2011-05-26     3.0          4         1\n",
      "2   3  2011-06-16     3.0          3         1\n",
      "3   4  2012-08-26     1.0          2         3\n",
      "4   5  2013-06-06     2.0          4         1\n",
      "5   6  2013-12-23     2.0          5         6\n",
      "6   7  2013-12-30     3.0          4         1\n",
      "7   8  2014-04-24     NaN          2         3\n",
      "8   9  2015-04-24     7.0          4         3\n",
      "9  10  2016-05-08     3.0          4         4\n"
     ]
    }
   ],
   "source": [
    "print(edf.head(10))"
   ]
  },
  {
   "cell_type": "code",
   "execution_count": 65,
   "metadata": {},
   "outputs": [
    {
     "name": "stdout",
     "output_type": "stream",
     "text": [
      "             ID    UserID  ProductID   Quantity\n",
      "count  10.00000  9.000000  10.000000  10.000000\n",
      "mean    5.50000  3.444444   3.400000   2.400000\n",
      "std     3.02765  2.127858   1.074968   1.712698\n",
      "min     1.00000  1.000000   2.000000   1.000000\n",
      "25%     3.25000  2.000000   2.250000   1.000000\n",
      "50%     5.50000  3.000000   4.000000   2.000000\n",
      "75%     7.75000  3.000000   4.000000   3.000000\n",
      "max    10.00000  7.000000   5.000000   6.000000\n"
     ]
    }
   ],
   "source": []
  },
  {
   "cell_type": "code",
   "execution_count": null,
   "metadata": {},
   "outputs": [],
   "source": []
  },
  {
   "cell_type": "code",
   "execution_count": null,
   "metadata": {},
   "outputs": [],
   "source": []
  },
  {
   "cell_type": "code",
   "execution_count": null,
   "metadata": {},
   "outputs": [],
   "source": []
  }
 ],
 "metadata": {
  "kernelspec": {
   "display_name": "base",
   "language": "python",
   "name": "python3"
  },
  "language_info": {
   "codemirror_mode": {
    "name": "ipython",
    "version": 3
   },
   "file_extension": ".py",
   "mimetype": "text/x-python",
   "name": "python",
   "nbconvert_exporter": "python",
   "pygments_lexer": "ipython3",
   "version": "3.12.4"
  }
 },
 "nbformat": 4,
 "nbformat_minor": 2
}
