{
 "cells": [
  {
   "cell_type": "code",
   "execution_count": 150,
   "metadata": {},
   "outputs": [
    {
     "name": "stdout",
     "output_type": "stream",
     "text": [
      "   TransactionID TransactionDate  UserID  ProductID  Quantity\n",
      "0              1      2010-08-21     7.0          2         1\n",
      "1              2      2011-05-26     3.0          4         1\n",
      "2              3      2011-06-16     3.0          3         1\n",
      "3              4      2012-08-26     1.0          2         3\n",
      "4              5      2013-06-06     2.0          4         1\n",
      "5              6      2013-12-23     2.0          5         6\n",
      "6              7      2013-12-30     3.0          4         1\n",
      "7              8      2014-04-24     NaN          2         3\n",
      "8              9      2015-04-24     7.0          4         3\n",
      "9             10      2016-05-08     3.0          4         4\n"
     ]
    }
   ],
   "source": [
    "import pandas as pd\n",
    "df=pd.read_csv('transactions.csv')\n",
    "print(df)"
   ]
  },
  {
   "cell_type": "code",
   "execution_count": 151,
   "metadata": {},
   "outputs": [],
   "source": [
    "df.rename(columns={'TransactionID':'ID','TransactionDate':'Date'},inplace=True)"
   ]
  },
  {
   "cell_type": "code",
   "execution_count": 152,
   "metadata": {},
   "outputs": [
    {
     "name": "stdout",
     "output_type": "stream",
     "text": [
      "summary of dataset              ID    UserID  ProductID   Quantity\n",
      "count  10.00000  9.000000  10.000000  10.000000\n",
      "mean    5.50000  3.444444   3.400000   2.400000\n",
      "std     3.02765  2.127858   1.074968   1.712698\n",
      "min     1.00000  1.000000   2.000000   1.000000\n",
      "25%     3.25000  2.000000   2.250000   1.000000\n",
      "50%     5.50000  3.000000   4.000000   2.000000\n",
      "75%     7.75000  3.000000   4.000000   3.000000\n",
      "max    10.00000  7.000000   5.000000   6.000000\n"
     ]
    }
   ],
   "source": [
    "print(\"summary of dataset\",df.describe())"
   ]
  },
  {
   "cell_type": "code",
   "execution_count": 153,
   "metadata": {},
   "outputs": [
    {
     "name": "stdout",
     "output_type": "stream",
     "text": [
      "no. of rows 10\n"
     ]
    }
   ],
   "source": [
    "print(\"no. of rows\",len(df))"
   ]
  },
  {
   "cell_type": "code",
   "execution_count": 154,
   "metadata": {},
   "outputs": [
    {
     "name": "stdout",
     "output_type": "stream",
     "text": [
      "no.of columns 5\n"
     ]
    }
   ],
   "source": [
    "print(\"no.of columns\",len(df.columns))"
   ]
  },
  {
   "cell_type": "code",
   "execution_count": 155,
   "metadata": {},
   "outputs": [
    {
     "name": "stdout",
     "output_type": "stream",
     "text": [
      "row names [0 1 2 3 4 5 6 7 8 9]\n"
     ]
    }
   ],
   "source": [
    "print(\"row names\",df.index.values)"
   ]
  },
  {
   "cell_type": "code",
   "execution_count": 156,
   "metadata": {},
   "outputs": [
    {
     "name": "stdout",
     "output_type": "stream",
     "text": [
      "column names ['ID' 'Date' 'UserID' 'ProductID' 'Quantity']\n"
     ]
    }
   ],
   "source": [
    "print(\"column names\",df.columns.values)"
   ]
  },
  {
   "cell_type": "code",
   "execution_count": 157,
   "metadata": {},
   "outputs": [],
   "source": [
    "df.rename(columns={\"Quantity\":\"Quant\",\"ProductID\":\"PID\",\"UserID\":\"UID\"},inplace=True)"
   ]
  },
  {
   "cell_type": "code",
   "execution_count": 158,
   "metadata": {},
   "outputs": [
    {
     "name": "stdout",
     "output_type": "stream",
     "text": [
      "ordered data    ID        Date  UID  PID  Quant\n",
      "9  10  2016-05-08  3.0    4      4\n",
      "8   9  2015-04-24  7.0    4      3\n",
      "7   8  2014-04-24  NaN    2      3\n",
      "6   7  2013-12-30  3.0    4      1\n",
      "5   6  2013-12-23  2.0    5      6\n",
      "4   5  2013-06-06  2.0    4      1\n",
      "3   4  2012-08-26  1.0    2      3\n",
      "2   3  2011-06-16  3.0    3      1\n",
      "1   2  2011-05-26  3.0    4      1\n",
      "0   1  2010-08-21  7.0    2      1\n"
     ]
    }
   ],
   "source": [
    "ordered_df = df.sort_values(by=[\"ID\"],\n",
    "ascending=[False])\n",
    "print(\"ordered data\",ordered_df)"
   ]
  },
  {
   "cell_type": "code",
   "execution_count": 159,
   "metadata": {},
   "outputs": [
    {
     "name": "stdout",
     "output_type": "stream",
     "text": [
      "   ID        Date  UID  PID  Quant\n",
      "5   6  2013-12-23  2.0    5      6\n",
      "9  10  2016-05-08  3.0    4      4\n",
      "8   9  2015-04-24  7.0    4      3\n",
      "3   4  2012-08-26  1.0    2      3\n",
      "7   8  2014-04-24  NaN    2      3\n",
      "0   1  2010-08-21  7.0    2      1\n",
      "1   2  2011-05-26  3.0    4      1\n",
      "2   3  2011-06-16  3.0    3      1\n",
      "4   5  2013-06-06  2.0    4      1\n",
      "6   7  2013-12-30  3.0    4      1\n"
     ]
    }
   ],
   "source": [
    "ordered_df = df.sort_values(by=[ 'Quant'],\n",
    "ascending=[False])\n",
    "print(ordered_df)"
   ]
  },
  {
   "cell_type": "code",
   "execution_count": 160,
   "metadata": {},
   "outputs": [],
   "source": [
    "df=df[[\"PID\",\"Quant\",\"Date\",\"ID\",\"UID\"]]\n"
   ]
  },
  {
   "cell_type": "code",
   "execution_count": 161,
   "metadata": {},
   "outputs": [
    {
     "name": "stdout",
     "output_type": "stream",
     "text": [
      "   PID  Quant        Date  ID  UID\n",
      "0    2      1  2010-08-21   1  7.0\n",
      "1    4      1  2011-05-26   2  3.0\n",
      "2    3      1  2011-06-16   3  3.0\n",
      "3    2      3  2012-08-26   4  1.0\n",
      "4    4      1  2013-06-06   5  2.0\n",
      "5    5      6  2013-12-23   6  2.0\n",
      "6    4      1  2013-12-30   7  3.0\n",
      "7    2      3  2014-04-24   8  NaN\n",
      "8    4      3  2015-04-24   9  7.0\n",
      "9    4      4  2016-05-08  10  3.0\n"
     ]
    }
   ],
   "source": [
    "print(df)"
   ]
  },
  {
   "cell_type": "code",
   "execution_count": 162,
   "metadata": {},
   "outputs": [
    {
     "name": "stdout",
     "output_type": "stream",
     "text": [
      "   UID  Quant        Date  ID  PID\n",
      "0  7.0      1  2010-08-21   1    2\n",
      "1  3.0      1  2011-05-26   2    4\n",
      "2  3.0      1  2011-06-16   3    3\n",
      "3  1.0      3  2012-08-26   4    2\n",
      "4  2.0      1  2013-06-06   5    4\n",
      "5  2.0      6  2013-12-23   6    5\n",
      "6  3.0      1  2013-12-30   7    4\n",
      "7  NaN      3  2014-04-24   8    2\n",
      "8  7.0      3  2015-04-24   9    4\n",
      "9  3.0      4  2016-05-08  10    4\n"
     ]
    }
   ],
   "source": [
    "df=df[[\"UID\",\"Quant\",\"Date\",\"ID\",\"PID\"]]\n",
    "print(df)"
   ]
  },
  {
   "cell_type": "code",
   "execution_count": 163,
   "metadata": {},
   "outputs": [
    {
     "name": "stdout",
     "output_type": "stream",
     "text": [
      "Second column\n",
      "Quant\n",
      "0    1\n",
      "1    1\n",
      "2    1\n",
      "3    3\n",
      "4    1\n",
      "5    6\n",
      "6    1\n",
      "7    3\n",
      "8    3\n",
      "9    4\n",
      "Name: Quant, dtype: int64\n"
     ]
    }
   ],
   "source": [
    "print(\"Second column\")\n",
    "print(df.columns.values[1])\n",
    "print(df[df.columns[1]])"
   ]
  },
  {
   "cell_type": "code",
   "execution_count": 164,
   "metadata": {},
   "outputs": [
    {
     "name": "stdout",
     "output_type": "stream",
     "text": [
      "PID\n",
      "<xarray.DataArray 'PID' (index: 10)>\n",
      "array([2, 4, 3, 2, 4, 5, 4, 2, 4, 4])\n",
      "Coordinates:\n",
      "  * index    (index) int64 0 1 2 3 4 5 6 7 8 9\n"
     ]
    }
   ],
   "source": [
    "print(\"PID\")\n",
    "print(df['PID'].to_xarray())"
   ]
  },
  {
   "cell_type": "code",
   "execution_count": 165,
   "metadata": {},
   "outputs": [
    {
     "name": "stdout",
     "output_type": "stream",
     "text": [
      "   UID  Quant        Date  ID  PID\n",
      "1  3.0      1  2011-05-26   2    4\n",
      "3  1.0      3  2012-08-26   4    2\n",
      "6  3.0      1  2013-12-30   7    4\n"
     ]
    }
   ],
   "source": [
    "row_subset=df.loc[[1,3,6]]\n",
    "print(row_subset)"
   ]
  },
  {
   "cell_type": "code",
   "execution_count": 166,
   "metadata": {},
   "outputs": [
    {
     "name": "stdout",
     "output_type": "stream",
     "text": [
      "   UID  Quant        Date  ID  PID\n",
      "0  7.0      1  2010-08-21   1    2\n",
      "1  3.0      1  2011-05-26   2    4\n",
      "2  3.0      1  2011-06-16   3    3\n"
     ]
    }
   ],
   "source": [
    "fstrow_subset=df.loc[0:2]\n",
    "print(fstrow_subset)"
   ]
  },
  {
   "cell_type": "code",
   "execution_count": 167,
   "metadata": {},
   "outputs": [
    {
     "name": "stdout",
     "output_type": "stream",
     "text": [
      "   UID  Quant        Date  ID  PID\n",
      "8  7.0      3  2015-04-24   9    4\n",
      "9  3.0      4  2016-05-08  10    4\n"
     ]
    }
   ],
   "source": [
    "row_subset=df.loc[len(df)-2:len(df)-1]\n",
    "print(row_subset)"
   ]
  },
  {
   "cell_type": "code",
   "execution_count": 168,
   "metadata": {},
   "outputs": [
    {
     "name": "stdout",
     "output_type": "stream",
     "text": [
      "   UID  Quant        Date  ID  PID\n",
      "0  7.0      1  2010-08-21   1    2\n",
      "1  3.0      1  2011-05-26   2    4\n",
      "2  3.0      1  2011-06-16   3    3\n",
      "3  1.0      3  2012-08-26   4    2\n",
      "4  2.0      1  2013-06-06   5    4\n",
      "5  2.0      6  2013-12-23   6    5\n",
      "6  3.0      1  2013-12-30   7    4\n",
      "7  NaN      3  2014-04-24   8    2\n"
     ]
    }
   ],
   "source": [
    "row_subset=df.loc[0:len(df)-3]\n",
    "print(row_subset)"
   ]
  },
  {
   "cell_type": "code",
   "execution_count": 169,
   "metadata": {},
   "outputs": [
    {
     "name": "stdout",
     "output_type": "stream",
     "text": [
      "   UID  Quant        Date  ID  PID\n",
      "3  1.0      3  2012-08-26   4    2\n",
      "4  2.0      1  2013-06-06   5    4\n",
      "5  2.0      6  2013-12-23   6    5\n",
      "6  3.0      1  2013-12-30   7    4\n",
      "7  NaN      3  2014-04-24   8    2\n",
      "8  7.0      3  2015-04-24   9    4\n",
      "9  3.0      4  2016-05-08  10    4\n"
     ]
    }
   ],
   "source": [
    "row_subset=df.loc[3:len(df)-1]\n",
    "print(row_subset)"
   ]
  },
  {
   "cell_type": "code",
   "execution_count": 170,
   "metadata": {},
   "outputs": [
    {
     "name": "stdout",
     "output_type": "stream",
     "text": [
      "   UID  Quant        Date  ID  PID\n",
      "3  1.0      3  2012-08-26   4    2\n",
      "5  2.0      6  2013-12-23   6    5\n",
      "7  NaN      3  2014-04-24   8    2\n",
      "8  7.0      3  2015-04-24   9    4\n",
      "9  3.0      4  2016-05-08  10    4\n"
     ]
    }
   ],
   "source": [
    "print(df[df['Quant']>1])"
   ]
  },
  {
   "cell_type": "code",
   "execution_count": 171,
   "metadata": {},
   "outputs": [
    {
     "name": "stdout",
     "output_type": "stream",
     "text": [
      "   UID  Quant        Date  ID  PID\n",
      "4  2.0      1  2013-06-06   5    4\n",
      "5  2.0      6  2013-12-23   6    5\n"
     ]
    }
   ],
   "source": [
    "print(df[df['UID']==2])"
   ]
  },
  {
   "cell_type": "code",
   "execution_count": 172,
   "metadata": {},
   "outputs": [
    {
     "name": "stdout",
     "output_type": "stream",
     "text": [
      "   UID  Quant        Date  ID  PID\n",
      "5  2.0      6  2013-12-23   6    5\n"
     ]
    }
   ],
   "source": [
    "uid=df[df['UID']==2]\n",
    "print(uid[uid['Quant']>1])"
   ]
  },
  {
   "cell_type": "code",
   "execution_count": 173,
   "metadata": {},
   "outputs": [
    {
     "name": "stdout",
     "output_type": "stream",
     "text": [
      "   UID  Quant        Date  ID  PID\n",
      "0  7.0      1  2010-08-21   1    2\n",
      "1  3.0      1  2011-05-26   2    4\n",
      "2  3.0      1  2011-06-16   3    3\n",
      "3  1.0      3  2012-08-26   4    2\n",
      "5  2.0      6  2013-12-23   6    5\n",
      "6  3.0      1  2013-12-30   7    4\n",
      "8  7.0      3  2015-04-24   9    4\n",
      "9  3.0      4  2016-05-08  10    4\n"
     ]
    }
   ],
   "source": [
    "row_subset=df[df['Quant']+df['UID']>3]\n",
    "print(row_subset)"
   ]
  },
  {
   "cell_type": "code",
   "execution_count": 174,
   "metadata": {},
   "outputs": [
    {
     "name": "stdout",
     "output_type": "stream",
     "text": [
      "   UID  Quant        Date  ID  PID\n",
      "0  7.0      1  2010-08-21   1    2\n",
      "2  3.0      1  2011-06-16   3    3\n",
      "4  2.0      1  2013-06-06   5    4\n",
      "6  3.0      1  2013-12-30   7    4\n",
      "8  7.0      3  2015-04-24   9    4\n"
     ]
    }
   ],
   "source": [
    "foo=[True,False,True,False,True,False,True,False,True,False]\n",
    "print(df[foo])"
   ]
  },
  {
   "cell_type": "code",
   "execution_count": null,
   "metadata": {},
   "outputs": [
    {
     "name": "stdout",
     "output_type": "stream",
     "text": [
      "   UID  Quant        Date  ID  PID   foo\n",
      "0  7.0      1  2010-08-21   1    2   9.0\n",
      "4  2.0      1  2013-06-06   5    4   6.0\n",
      "6  3.0      1  2013-12-30   7    4   7.0\n",
      "8  7.0      3  2015-04-24   9    4  11.0\n"
     ]
    }
   ],
   "source": [
    "bar = [+1, -1, -1, -1, +1, -1, +1, -1, +1, -1]\n",
    "barfoo = [False] * len(bar)\n",
    "\n",
    "for i in range(len(bar)):\n",
    "    if bar[i] > 0:\n",
    "        barfoo[i] = True\n",
    "\n",
    "print(df[barfoo])"
   ]
  },
  {
   "cell_type": "code",
   "execution_count": null,
   "metadata": {},
   "outputs": [],
   "source": []
  },
  {
   "cell_type": "code",
   "execution_count": 176,
   "metadata": {},
   "outputs": [
    {
     "name": "stdout",
     "output_type": "stream",
     "text": [
      "   Quant  ID\n",
      "0      1   1\n",
      "1      1   2\n",
      "2      1   3\n",
      "3      3   4\n",
      "4      1   5\n",
      "5      6   6\n",
      "6      1   7\n",
      "7      3   8\n",
      "8      3   9\n",
      "9      4  10\n"
     ]
    }
   ],
   "source": [
    "\n",
    "print(df.iloc[:,[1,3]])"
   ]
  },
  {
   "cell_type": "code",
   "execution_count": 177,
   "metadata": {},
   "outputs": [
    {
     "name": "stdout",
     "output_type": "stream",
     "text": [
      "   ID        Date\n",
      "0   1  2010-08-21\n",
      "1   2  2011-05-26\n",
      "2   3  2011-06-16\n",
      "3   4  2012-08-26\n",
      "4   5  2013-06-06\n",
      "5   6  2013-12-23\n",
      "6   7  2013-12-30\n",
      "7   8  2014-04-24\n",
      "8   9  2015-04-24\n",
      "9  10  2016-05-08\n"
     ]
    }
   ],
   "source": [
    "subset_cols=df[['ID','Date']]\n",
    "print(subset_cols)"
   ]
  },
  {
   "cell_type": "code",
   "execution_count": 178,
   "metadata": {},
   "outputs": [
    {
     "name": "stdout",
     "output_type": "stream",
     "text": [
      "   ID        Date  Quant\n",
      "0   1  2010-08-21      1\n",
      "1   2  2011-05-26      1\n",
      "2   3  2011-06-16      1\n",
      "3   4  2012-08-26      3\n",
      "4   5  2013-06-06      1\n",
      "5   6  2013-12-23      6\n",
      "6   7  2013-12-30      1\n",
      "7   8  2014-04-24      3\n",
      "8   9  2015-04-24      3\n",
      "9  10  2016-05-08      4\n"
     ]
    }
   ],
   "source": [
    "columns_to_select = ['ID', 'Date', 'Quant']\n",
    "subset_columns = df[columns_to_select]\n",
    "print(subset_columns)"
   ]
  },
  {
   "cell_type": "code",
   "execution_count": 179,
   "metadata": {},
   "outputs": [
    {
     "name": "stdout",
     "output_type": "stream",
     "text": [
      "   UID        Date  ID\n",
      "0  7.0  2010-08-21   1\n",
      "1  3.0  2011-05-26   2\n",
      "2  3.0  2011-06-16   3\n",
      "3  1.0  2012-08-26   4\n",
      "4  2.0  2013-06-06   5\n",
      "5  2.0  2013-12-23   6\n",
      "6  3.0  2013-12-30   7\n",
      "7  NaN  2014-04-24   8\n",
      "8  7.0  2015-04-24   9\n",
      "9  3.0  2016-05-08  10\n"
     ]
    }
   ],
   "source": [
    "columns_to_exclude = ['Quant', 'PID']\n",
    "subset_columns_excluded = df[[col for col in df.columns if col not\n",
    "in columns_to_exclude]]\n",
    "print(subset_columns_excluded)"
   ]
  },
  {
   "cell_type": "code",
   "execution_count": 180,
   "metadata": {},
   "outputs": [
    {
     "name": "stdout",
     "output_type": "stream",
     "text": [
      "   UID  Quant        Date  ID  PID   foo\n",
      "0  7.0      1  2010-08-21   1    2   9.0\n",
      "1  3.0      1  2011-05-26   2    4   7.0\n",
      "2  3.0      1  2011-06-16   3    3   6.0\n",
      "3  1.0      3  2012-08-26   4    2   3.0\n",
      "4  2.0      1  2013-06-06   5    4   6.0\n",
      "5  2.0      6  2013-12-23   6    5   7.0\n",
      "6  3.0      1  2013-12-30   7    4   7.0\n",
      "7  NaN      3  2014-04-24   8    2   NaN\n",
      "8  7.0      3  2015-04-24   9    4  11.0\n",
      "9  3.0      4  2016-05-08  10    4   7.0\n"
     ]
    }
   ],
   "source": [
    "df['foo']=df['UID']+df['PID']\n",
    "print(df)"
   ]
  },
  {
   "cell_type": "code",
   "execution_count": null,
   "metadata": {},
   "outputs": [],
   "source": []
  },
  {
   "cell_type": "code",
   "execution_count": null,
   "metadata": {},
   "outputs": [],
   "source": []
  },
  {
   "cell_type": "code",
   "execution_count": null,
   "metadata": {},
   "outputs": [],
   "source": []
  },
  {
   "cell_type": "code",
   "execution_count": null,
   "metadata": {},
   "outputs": [],
   "source": []
  },
  {
   "cell_type": "code",
   "execution_count": null,
   "metadata": {},
   "outputs": [],
   "source": []
  },
  {
   "cell_type": "code",
   "execution_count": null,
   "metadata": {},
   "outputs": [],
   "source": []
  },
  {
   "cell_type": "code",
   "execution_count": null,
   "metadata": {},
   "outputs": [],
   "source": []
  },
  {
   "cell_type": "code",
   "execution_count": null,
   "metadata": {},
   "outputs": [],
   "source": []
  },
  {
   "cell_type": "code",
   "execution_count": null,
   "metadata": {},
   "outputs": [],
   "source": []
  }
 ],
 "metadata": {
  "kernelspec": {
   "display_name": "base",
   "language": "python",
   "name": "python3"
  },
  "language_info": {
   "codemirror_mode": {
    "name": "ipython",
    "version": 3
   },
   "file_extension": ".py",
   "mimetype": "text/x-python",
   "name": "python",
   "nbconvert_exporter": "python",
   "pygments_lexer": "ipython3",
   "version": "3.12.4"
  }
 },
 "nbformat": 4,
 "nbformat_minor": 2
}
